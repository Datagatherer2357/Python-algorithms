{
 "cells": [
  {
   "cell_type": "markdown",
   "metadata": {},
   "source": [
    "## Problem sheet - COMP08033\n",
    "### HDip in Science- Computing (Data Analytics)\n",
    "\n",
    "### Gareth Duffy - g00364693"
   ]
  },
  {
   "cell_type": "code",
   "execution_count": 2,
   "metadata": {},
   "outputs": [
    {
     "name": "stdout",
     "output_type": "stream",
     "text": [
      "1\n",
      "2\n",
      "3\n",
      "4\n",
      "4\n",
      "3\n",
      "2\n",
      "1\n"
     ]
    }
   ],
   "source": [
    "# Q1 (3 marks)\n",
    "\n",
    "# In answer show hypothetcial code output if you entereed mystery(4) or mystery(3)\n",
    "# Show what happens when you dont include the 2nd print function.\n",
    "# Produce a neat stack diagram (draft in notebook and Word)\n",
    "\n",
    "def mystery(n): # Takes a single argument in its parameters (Integer or float).\n",
    "    print(n) # First print of n (Incrementally prints 1,2,3,4)\n",
    "    if n < 4: # If n is less than 4, continue to the line below. If n is 4 or more we skip the mystery(n + 1) call below.\n",
    "        mystery(n + 1) # Adds 1 onto n, and pushes this call onto the stack. Now recursion returns to second line.\n",
    "    print(n) # Second print of n (Incrementally prints 4,3,2,1). This print occurs once n becomes >= to 4.\n",
    "    \n",
    "mystery(1)"
   ]
  },
  {
   "cell_type": "code",
   "execution_count": 2,
   "metadata": {},
   "outputs": [
    {
     "data": {
      "text/plain": [
       "1001"
      ]
     },
     "execution_count": 2,
     "metadata": {},
     "output_type": "execute_result"
    }
   ],
   "source": [
    "# Q2 (8 marks)\n",
    "\n",
    "# Q2(a) what is returned with this input array? [0, -247, 341, 1001, 741, 22]\n",
    "# print(len([0, -247, 341, 1001, 741, 22])) # Determines the length of the array i.e. 6 in this case\n",
    "\n",
    "def finder(data): # Takes an array or set of numbers\n",
    "    return finder_rec(data, len(data)-1) # Here, finder() calls finder_rec(). finder_rec() has two parameters which takes \n",
    "                                         # the data array as its first argument, and the length of this data array, (which is 6). \n",
    "                                         # -1 as its second argument (x). Thus, the len(data)-1 parameter receives \"5\" in order \n",
    "                                         # to serve as the starting point of the array index (0-5).\n",
    "    \n",
    "\n",
    "def finder_rec(data, x): # Takes two arguments in its parameters: the data array and the index position. \n",
    "\n",
    "    if x == 0: # \"x\" is the index position of the data array. When x is equal to index \"0\", this if condition can be fulfilled.\n",
    "        return data[x] # Returns the index postion of a single number in the array as \"x\".\n",
    "    v1 = data[x]       # \"v1\" becomes a temporary container for the integer in the current index position of \"x\".\n",
    "    v2 = finder_rec(data, x-1) # \"v2\" becomes a temporary container for the next indexed integer in line (x-1), and finder_rec()\n",
    "                               # is called to the stack. \n",
    "    if v1 > v2:        # If the number in the v1 container is larger than that in v2, return v1. \n",
    "        return v1          # Calls/pops v1 off the stack (Second call)\n",
    "    else:              # Otherwise, return the other number (v2). \n",
    "        return v2          # Calls/pops v2 off the stack (Second call).\n",
    "                       # Thus, this process of elimination keeps retaining the larger number until no more larger numbers exist.\n",
    "        \n",
    "finder([0, -247, 341, 1001, 741, 22]) # Answer 1001"
   ]
  },
  {
   "cell_type": "code",
   "execution_count": 9,
   "metadata": {},
   "outputs": [],
   "source": [
    "# Q2(b) What characteristic of the input data set does the finder method determine? How does it determine this result?\n",
    "\n",
    "# The finder method determines the largest number by recursion, a function calling another function, then calling itself\n",
    "# when the function returns (or exits) the activation frame is popped off the stack (elaborated on Word)\n",
    "\n",
    "# Q2(c) Add good comments. Write all the comments from pad"
   ]
  },
  {
   "cell_type": "code",
   "execution_count": 8,
   "metadata": {},
   "outputs": [
    {
     "name": "stdout",
     "output_type": "stream",
     "text": [
      "1001\n"
     ]
    }
   ],
   "source": [
    "# Q2(d) Write an iterative version of the finder function\n",
    "\n",
    "\n",
    "#----------------Solution------------------#\n",
    "# ONLY 21 steps used compared to 45 if recursive method is used\n",
    "\n",
    "def finder(data):\n",
    "    largest = 0 # Provisionally set the \"largest\" number of the list/array to \"0\".\n",
    "\n",
    "    for i in data: # Iterate through the entire data array.\n",
    "        if(largest < i): # If \"largest\" is less than the current iterated number \"i\"...\n",
    "             largest = i  # Then assign \"largest\" this new value of \"i\" (This continues until the largest number is found).[2]\n",
    "    return largest # Largest number is returned once no more comparisons are available for iteration.           \n",
    "\n",
    "print(finder([0, -247, 341, 1001, 741, 22])) # Test any input array"
   ]
  },
  {
   "cell_type": "code",
   "execution_count": 120,
   "metadata": {},
   "outputs": [
    {
     "name": "stdout",
     "output_type": "stream",
     "text": [
      "True\n"
     ]
    }
   ],
   "source": [
    "# Q3 Consider the following method which checks if an array of integers contains duplicate elements\n",
    "\n",
    "def contains_duplicates(elements):\n",
    "    for i in range(0, len(elements)):\n",
    "        for j in range(0, len(elements)): \n",
    "            if i == j: # avoid self comparision\n",
    "                continue\n",
    "            if elements[i] == elements[j]:\n",
    "                return True # duplicate found\n",
    "    return False \n",
    "\n",
    "test = [10,0,5,3,-19,5]\n",
    "print(contains_duplicates(test))"
   ]
  },
  {
   "cell_type": "markdown",
   "metadata": {},
   "source": [
    "Big O notation is used to classify algorithms according to how their running time or space (memory) requirements grow as the input size grows. \"O\" is used because the growth rate of a function is also referred to as the (O)rder of the function. A description of a function in terms of big O notation usually only provides an upper bound on the growth rate of the function\n",
    "\n",
    "The \"bound\" tells about the rate of growth, whether O, Omega or Theta\n",
    "measures the algos growth rate \n",
    "\n",
    "'n' refers to the number of elements/input values\n",
    "\n",
    "Q3(a) best case time complexity, and why: \n",
    "\n",
    "Best case would be if the first two integers in the inputted array [0] and [1] are matches, because a duplicate would be found instantly. Here only one iterative search is done.\n",
    "\n",
    "O(log n) algorithm appears to be impossible when searching an entire array, because a minimum of n steps is required to view all elements of the array. For finding duplicates elements in a given array, you need to look at each element at least one time. So the minimum could be O(n). No matter what, you have to visit every number at least once so O(logn) time solution is obstensibly not possible.\n",
    "\n",
    "\n",
    "------------------------------------------------------------------------\n",
    "\n",
    "Q3(b) worst case time complexity, and why: \n",
    "\n",
    "\n",
    "Its O(n2) as the worst execution time depends on the square of the number of elements in the array, because there are 2 loops. An algorithm is ‘quadratic’ when the number of operations become the square of the number of elements.This example search function will loop over every element in input and then it’ll loop through it again, resulting in it having O(n*n) quadratic time complexity. \n",
    "\n",
    "O(n2) represents an algorithm whose worst case performnce is directly proportional to the square of the input size. this class of complexity os common with algos that involve nested iterations over the input data such as these nested for loops.\n",
    "\n",
    "-----------------------------------\n"
   ]
  },
  {
   "cell_type": "code",
   "execution_count": 7,
   "metadata": {},
   "outputs": [
    {
     "name": "stdout",
     "output_type": "stream",
     "text": [
      "18 comparisons till duplicate found\n",
      "34 comparisons till duplicate found\n",
      "38 comparisons made in total\n"
     ]
    }
   ],
   "source": [
    "# %%timeit\n",
    "\n",
    "# Q3(c)\n",
    "# count = 0  Realised I did not need \"global\" count\n",
    "\n",
    "# print(count) # duplicate found and number of comparisons quantified...OLD: return True        \n",
    "# comp1 = [10,0,5,3,-19,5]\n",
    "\n",
    "def contains_duplicates(elements):\n",
    "    count = 0 # Set count variable intially to zero.\n",
    "    \n",
    "    for i in range(0, len(elements)):# \"0\" is the index position of the integer in the array; \"i\" iterates over the array.\n",
    "        for j in range(0, len(elements)): # \"j\" iterates over array; \"i\" incrementally moves up and \"waits\" for j to compare.\n",
    "            count += 1 # Adds one to the count after a comparison is made. 36 comparisons are made in both inner and outer loops.\n",
    "            if i == j: # Avoid self comparision.\n",
    "                continue\n",
    "            if elements[i] == elements[j]: # If condition to determine if a duplicate is present in the array.\n",
    "                print(count, \"comparisons till duplicate found\"); count += 1; continue #Adds one to count if duplicate is found. \n",
    "                                                                                       # 2 comparisons are made here.\n",
    "    print(count, \"comparisons made in total\") # Prints total comparison count.\n",
    "\n",
    "\n",
    "contains_duplicates([10,0,5,3,-19,5])"
   ]
  },
  {
   "cell_type": "code",
   "execution_count": 3,
   "metadata": {},
   "outputs": [
    {
     "name": "stdout",
     "output_type": "stream",
     "text": [
      "36 comparisons made in total\n"
     ]
    }
   ],
   "source": [
    "def contains_duplicates(elements):\n",
    "    count = 0 # Set count variable intially to zero.\n",
    "    \n",
    "    for i in range(0, len(elements)):# \"0\" is the index position of the integer in the array; \"i\" iterates over the array.\n",
    "        for j in range(0, len(elements)): # \"j\" iterates over array; \"i\" incrementally moves up and \"waits\" for j to compare.\n",
    "            count += 1 # Adds one to the count after a comparison is made. 36 comparisons are made in both inner and outer loops.\n",
    "            if i == j: # Avoid self comparision.\n",
    "                continue\n",
    "            if elements[i] == elements[j]: # If condition to determine if a duplicate is present in the array.\n",
    "                print(count, \"comparisons till duplicate found\"); count += 1; continue #Adds one to count if duplicate is found. \n",
    "                                                                                       # 2 comparisons are made here.\n",
    "    print(count, \"comparisons made in total\") # Prints total comparison count.\n",
    "\n",
    "\n",
    "contains_duplicates([10,0,5,3,-19,7])"
   ]
  },
  {
   "cell_type": "code",
   "execution_count": 4,
   "metadata": {},
   "outputs": [
    {
     "name": "stdout",
     "output_type": "stream",
     "text": [
      "True\n",
      "1551354731545.8 milliseconds to execute\n"
     ]
    }
   ],
   "source": [
    "#import time\n",
    "#start = time.time()\n",
    "\n",
    "# Q3(d) Input instance with 5 elements yields best case running time version:\n",
    "# test = [0,0,1,2,3] # Because the firt two integers are matches \n",
    "\n",
    "#Q3(e) Input instance with 5 elements yields worst case running time version:\n",
    "# test = [5,4,3,2,1] # none match \n",
    "\n",
    "\n",
    "import time\n",
    "start = time.time()\n",
    "\n",
    "def contains_duplicates(elements):\n",
    "    for i in range(0, len(elements)):\n",
    "        for j in range(0, len(elements)): \n",
    "            if i == j: \n",
    "                continue\n",
    "            if elements[i] == elements[j]:\n",
    "                return True \n",
    "    return False \n",
    "\n",
    "test = [0,0,1,2,3] # Best-case running time \n",
    "print(contains_duplicates(test))\n",
    "\n",
    "end = time.time() * 1000  # process time converted to milliseconds\n",
    "print(end - start, \"milliseconds to execute\") "
   ]
  },
  {
   "cell_type": "code",
   "execution_count": 1,
   "metadata": {},
   "outputs": [
    {
     "name": "stdout",
     "output_type": "stream",
     "text": [
      "False\n",
      "1551354463882.1743 milliseconds to execute\n"
     ]
    }
   ],
   "source": [
    "import time\n",
    "start = time.time()\n",
    "\n",
    "def contains_duplicates(elements): \n",
    "    for i in range(0, len(elements)):\n",
    "        for j in range(0, len(elements)): \n",
    "            if i == j: \n",
    "                continue\n",
    "            if elements[i] == elements[j]:\n",
    "                return True \n",
    "    return False \n",
    "\n",
    "test = [1,23,456,789,101112] # Best-case running time version\n",
    "print(contains_duplicates(test))\n",
    "\n",
    "end = time.time()*1000.0\n",
    "print(end - start, \"milliseconds to execute\")"
   ]
  },
  {
   "cell_type": "code",
   "execution_count": 6,
   "metadata": {},
   "outputs": [],
   "source": [
    "# Q3(f) Which input instance takes longer to process and why?\n",
    "\n",
    "# test = [10,0,5,3,-19,5] # runtime: 258 µs ± 9.31 µs per loop (mean ± std. dev. of 7 runs, 10000 loops each)\n",
    "# test = [0,1,0,-127,346,125] # runtime: 287 µs ± 46.5 µs per loop (mean ± std. dev. of 7 runs, 10000 loops each)\n",
    "# us means micro seconds: 1 second = 1000000 microseconds, but 1 microsecond = 1000 nanoseconds\n",
    "\n",
    "#end = time.time()\n",
    "#print(end - start, \"seconds\") # takes about 1.5/100 of a second \n",
    "\n",
    "# First instance [10,0,5,3,-19,5]\n",
    "# Second instance [0,1,0,-127,346,125]\n",
    "\n",
    "%%timeit\n",
    "\n",
    "def contains_duplicates(elements): \n",
    "    for i in range(0, len(elements)):\n",
    "        for j in range(0, len(elements)): \n",
    "            if i == j: \n",
    "                continue\n",
    "            if elements[i] == elements[j]:\n",
    "                return True \n",
    "    return False \n",
    "\n",
    "test = [10,0,5,3,-19,5] # First input \n",
    "\n",
    "print(contains_duplicates(test))"
   ]
  },
  {
   "cell_type": "code",
   "execution_count": 2,
   "metadata": {},
   "outputs": [
    {
     "data": {
      "text/plain": [
       "1001"
      ]
     },
     "execution_count": 2,
     "metadata": {},
     "output_type": "execute_result"
    }
   ],
   "source": [
    "# finder function raw\n",
    "\n",
    "def finder(data): \n",
    "    return finder_rec(data, len(data)-1) \n",
    "\n",
    "def finder_rec(data, x): \n",
    "    if x == 0: \n",
    "        return data[x] \n",
    "    v1 = data[x]       \n",
    "    v2 = finder_rec(data, x-1)                          \n",
    "    if v1 > v2:         \n",
    "        return v1         \n",
    "    else:               \n",
    "        return v2          \n",
    "        \n",
    "finder([0, -247, 341, 1001, 741, 22]) "
   ]
  }
 ],
 "metadata": {
  "kernelspec": {
   "display_name": "Python 3",
   "language": "python",
   "name": "python3"
  },
  "language_info": {
   "codemirror_mode": {
    "name": "ipython",
    "version": 3
   },
   "file_extension": ".py",
   "mimetype": "text/x-python",
   "name": "python",
   "nbconvert_exporter": "python",
   "pygments_lexer": "ipython3",
   "version": "3.6.5"
  }
 },
 "nbformat": 4,
 "nbformat_minor": 2
}
