{
 "cells": [
  {
   "cell_type": "markdown",
   "metadata": {},
   "source": [
    "### Python algorithms\n",
    "\n",
    "Gareth Duffy - 2019"
   ]
  },
  {
   "cell_type": "code",
   "execution_count": 24,
   "metadata": {},
   "outputs": [
    {
     "name": "stdout",
     "output_type": "stream",
     "text": [
      "True\n",
      "False\n"
     ]
    }
   ],
   "source": [
    "# Big O notation, example of (n)\n",
    "\n",
    "def contains_one(elements):\n",
    "    for i in range(0, len(elements)):\n",
    "        if elements[i] == 1:\n",
    "            return True\n",
    "        return False\n",
    "\n",
    "test1 = [1,2,3,4]\n",
    "test2 = [0,2,3,4]\n",
    "\n",
    "print(contains_one(test1)) # prints True\n",
    "print(contains_one(test2)) # prints False"
   ]
  },
  {
   "cell_type": "code",
   "execution_count": 28,
   "metadata": {},
   "outputs": [
    {
     "name": "stdout",
     "output_type": "stream",
     "text": [
      "True\n",
      "False\n"
     ]
    }
   ],
   "source": [
    "# Big O notation, example of(n2)\n",
    "\n",
    "def contains_duplicate(elements):\n",
    "    for i in range(0,len(elements)):\n",
    "        for j in range(0,len(elements)):\n",
    "            if i == j: # to avoid self comparison\n",
    "                continue\n",
    "            if elements[i] == elements[j]:\n",
    "                return True # duplicate found\n",
    "    return False \n",
    "\n",
    "test1 = [0,1,2,3,4,5,1]\n",
    "test2 = [0,1,2,3,4,5,6]\n",
    "\n",
    "print(contains_duplicate(test1)) # Prints True\n",
    "print(contains_duplicate(test2)) # Prints False\n"
   ]
  },
  {
   "cell_type": "code",
   "execution_count": 29,
   "metadata": {},
   "outputs": [
    {
     "name": "stdout",
     "output_type": "stream",
     "text": [
      "0\n",
      "1\n",
      "2\n"
     ]
    }
   ],
   "source": [
    "# Basic recursion\n",
    "\n",
    "def count(index):\n",
    "    print(index)\n",
    "    if index < 2:\n",
    "        count(index + 1)\n",
    "\n",
    "count(0) # outputs 0 1 2 "
   ]
  },
  {
   "cell_type": "code",
   "execution_count": 33,
   "metadata": {},
   "outputs": [
    {
     "name": "stdout",
     "output_type": "stream",
     "text": [
      "Delivering presents to Eric's house\n",
      "Delivering presents to Kenny's house\n",
      "Delivering presents to Kyle's house\n",
      "Delivering presents to Stan's house\n"
     ]
    }
   ],
   "source": [
    "# Deliver presents ITERATION vs RECURSIVE methods\n",
    "\n",
    "# Iteration\n",
    "\n",
    "houses = [\"Eric's house\", \"Kenny's house\", \"Kyle's house\", \"Stan's house\"]\n",
    "\n",
    "def deliver_presents_iteratively():\n",
    "    for house in houses:\n",
    "        print(\"Delivering presents to\", house)\n",
    "\n",
    "deliver_presents_iteratively()"
   ]
  },
  {
   "cell_type": "code",
   "execution_count": 37,
   "metadata": {},
   "outputs": [
    {
     "name": "stdout",
     "output_type": "stream",
     "text": [
      "Delivering presents to Eric's house\n",
      "Delivering presents to Kenny's house\n",
      "Delivering presents to Kyle's house\n",
      "Delivering presents to Stan's house\n"
     ]
    }
   ],
   "source": [
    "# Recursion\n",
    "\n",
    "houses = [\"Eric's house\", \"Kenny's house\", \"Kyle's house\", \"Stan's house\"]\n",
    "\n",
    "# Each function call represents an elf doing his work \n",
    "def deliver_presents_recursively(houses):\n",
    "    # Worker elf doing his work\n",
    "    if len(houses) == 1:\n",
    "        house = houses[0]\n",
    "        print(\"Delivering presents to\", house)\n",
    "\n",
    "    # Manager elf doing his work\n",
    "    else:\n",
    "        mid = len(houses) // 2\n",
    "        first_half = houses[:mid]\n",
    "        second_half = houses[mid:]\n",
    "\n",
    "        # Divides his work among two elves\n",
    "        deliver_presents_recursively(first_half)\n",
    "        deliver_presents_recursively(second_half)\n",
    "        \n",
    "deliver_presents_recursively(houses)"
   ]
  },
  {
   "cell_type": "code",
   "execution_count": 42,
   "metadata": {},
   "outputs": [
    {
     "data": {
      "text/plain": [
       "40320"
      ]
     },
     "execution_count": 42,
     "metadata": {},
     "output_type": "execute_result"
    }
   ],
   "source": [
    "# Factorial recursion\n",
    "\n",
    "def factorial_recursive(n):\n",
    "    # Base case: 1! = 1\n",
    "    if n == 1:\n",
    "        return 1\n",
    "\n",
    "    # Recursive case: n! = n * (n-1)!\n",
    "    else:\n",
    "        return n * factorial_recursive(n-1)\n",
    "    \n",
    "factorial_recursive(8)"
   ]
  },
  {
   "cell_type": "code",
   "execution_count": 44,
   "metadata": {},
   "outputs": [
    {
     "name": "stdout",
     "output_type": "stream",
     "text": [
      "Calculating F via recursion(4), Calculating F via recursion(3), Calculating F via recursion(2), Calculating F via recursion(1), Calculating F via recursion(0), Calculating F via recursion(1), Calculating F via recursion(2), Calculating F via recursion(1), Calculating F via recursion(0), "
     ]
    },
    {
     "data": {
      "text/plain": [
       "3"
      ]
     },
     "execution_count": 44,
     "metadata": {},
     "output_type": "execute_result"
    }
   ],
   "source": [
    "# Recursive function to compute the nth Fibonacci number\n",
    "\n",
    "def fibonacci_recursive(n):\n",
    "    print(\"Calculating F via recursion\", \"(\", n, \")\", sep=\"\", end=\", \")\n",
    "\n",
    "    # Base case\n",
    "    if n == 0:\n",
    "        return 0\n",
    "    elif n == 1:\n",
    "        return 1\n",
    "\n",
    "    # Recursive case\n",
    "    else:\n",
    "        return fibonacci_recursive(n-1) + fibonacci_recursive(n-2)\n",
    "    \n",
    "fibonacci_recursive(4)"
   ]
  },
  {
   "cell_type": "code",
   "execution_count": 2,
   "metadata": {},
   "outputs": [
    {
     "name": "stdout",
     "output_type": "stream",
     "text": [
      "120\n"
     ]
    }
   ],
   "source": [
    "# Recursion vs Iteration with factorials:\n",
    "\n",
    "# Iterative implementation\n",
    "\n",
    "def factorial(n):\n",
    "    answer = 1\n",
    "    while n > 1:\n",
    "        answer*= n\n",
    "        n-= 1 # Decreases the value of n by ONE\n",
    "    return answer\n",
    "\n",
    "print(factorial(5)) # Prints factorial, in this case 120"
   ]
  },
  {
   "cell_type": "code",
   "execution_count": 4,
   "metadata": {},
   "outputs": [
    {
     "name": "stdout",
     "output_type": "stream",
     "text": [
      "120\n"
     ]
    }
   ],
   "source": [
    "# Recursive implementation\n",
    "\n",
    "def factorial_rec(n):\n",
    "    if n<=1: # solves for the input values of 0 or 1\n",
    "        return 1\n",
    "    else:\n",
    "        return n*factorial_rec(n-1)\n",
    "    \n",
    "print(factorial_rec(5)) # Prints 120"
   ]
  },
  {
   "cell_type": "code",
   "execution_count": 5,
   "metadata": {},
   "outputs": [
    {
     "name": "stdout",
     "output_type": "stream",
     "text": [
      "7\n"
     ]
    }
   ],
   "source": [
    "# Calculate the GCD (Greatest common divisor)\n",
    "# Euclid 300 BC\n",
    "# Recursion vs Iteration\n",
    "\n",
    "# Iterative method\n",
    "\n",
    "def euclid(a, b):\n",
    "    while b != 0: # NOT equal to\n",
    "        temp = b # temp used to swap the values of a and b around\n",
    "        b = a % b # Modulo (returns remainder of division)\n",
    "        a = temp # Setting the value of a to be the old value of b\n",
    "    return a # Iterates until b reaches 0 and returns a which is the GCD\n",
    "\n",
    "print(euclid(35, 49)) # Prints 7 in this case"
   ]
  },
  {
   "cell_type": "code",
   "execution_count": 6,
   "metadata": {},
   "outputs": [
    {
     "name": "stdout",
     "output_type": "stream",
     "text": [
      "7\n"
     ]
    }
   ],
   "source": [
    "# Recursive method...an example of \"tail\" recursion\n",
    "# Euclid's algorithm will always put the bigger of the 2 numbers in the \"a\" parameter on the left\n",
    "\n",
    "def euclidR(a, b):\n",
    "    if b==0:\n",
    "        return a # Base case when the value of b reaches 0\n",
    "    else:\n",
    "        return euclidR(b, a%b) # A call to ITSELF (tail)\n",
    "\n",
    "print(euclidR(35,49))    "
   ]
  },
  {
   "cell_type": "code",
   "execution_count": 7,
   "metadata": {},
   "outputs": [
    {
     "name": "stdout",
     "output_type": "stream",
     "text": [
      "3\n"
     ]
    }
   ],
   "source": [
    "# Computing the nth Fibonacci numbers\n",
    "# Recursive vs Iterative methods\n",
    "\n",
    "# Iteration method\n",
    "\n",
    "def fib(n):\n",
    "    i, n1, n2 = 1, 0, 1 # i is loop counter, n1 is 0, n2 is 1(for first iteration)\n",
    "    while i <n: \n",
    "        temp = n1 #temp stores the previous number in the sequence\n",
    "        n1 = n2 \n",
    "        n2 = n1 + temp\n",
    "        i += 1 # Increment loop counter by ONE\n",
    "    return n1\n",
    "\n",
    "print(fib(5)) # Prints 3 in this case (5)"
   ]
  },
  {
   "cell_type": "code",
   "execution_count": 9,
   "metadata": {},
   "outputs": [
    {
     "name": "stdout",
     "output_type": "stream",
     "text": [
      "3\n"
     ]
    }
   ],
   "source": [
    "# Recursive method (In this case of fib...Iteration is a far more efficient method)\n",
    "# Our base cases here are the first and second numbers in the series#\n",
    "# If we dont have these base cases it wont work\n",
    "# An example of binary recursion (2 calls to itself)\n",
    "# all lower fib numbers are essentially sub-problems of the number above them\n",
    "# i.e. there is alot of block repetition patterns in a tree like manner\n",
    "\n",
    "def fibR(n): \n",
    "    if n ==1:\n",
    "        return 0 # in this case false \n",
    "    elif n == 2:\n",
    "        return 1 # in this case false\n",
    "    return fib(n-1) + fib(n-2) # adds up 2 previous to return nth number\n",
    "\n",
    "print(fibR(5))"
   ]
  }
 ],
 "metadata": {
  "kernelspec": {
   "display_name": "Python 3",
   "language": "python",
   "name": "python3"
  },
  "language_info": {
   "codemirror_mode": {
    "name": "ipython",
    "version": 3
   },
   "file_extension": ".py",
   "mimetype": "text/x-python",
   "name": "python",
   "nbconvert_exporter": "python",
   "pygments_lexer": "ipython3",
   "version": "3.6.5"
  }
 },
 "nbformat": 4,
 "nbformat_minor": 2
}
